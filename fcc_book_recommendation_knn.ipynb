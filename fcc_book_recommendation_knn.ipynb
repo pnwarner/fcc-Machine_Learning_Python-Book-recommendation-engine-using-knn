{
  "cells": [
    {
      "cell_type": "code",
      "execution_count": 1,
      "metadata": {
        "id": "Y1onB6kUvo4Z"
      },
      "outputs": [],
      "source": [
        "# import libraries (you may add additional imports but you may not have to)\n",
        "import numpy as np\n",
        "import pandas as pd\n",
        "from scipy.sparse import csr_matrix\n",
        "from sklearn.neighbors import NearestNeighbors\n",
        "import matplotlib.pyplot as plt"
      ]
    },
    {
      "cell_type": "code",
      "execution_count": null,
      "metadata": {
        "id": "iAQGqqO_vo4d"
      },
      "outputs": [],
      "source": [
        "# get data files\n",
        "!wget https://cdn.freecodecamp.org/project-data/books/book-crossings.zip\n",
        "\n",
        "!unzip book-crossings.zip\n",
        "\n",
        "books_filename = 'BX-Books.csv'\n",
        "ratings_filename = 'BX-Book-Ratings.csv'"
      ]
    },
    {
      "cell_type": "code",
      "execution_count": 28,
      "metadata": {
        "id": "NClILWOiEd6Q"
      },
      "outputs": [],
      "source": [
        "# import csv data into dataframes\n",
        "df_books = pd.read_csv(\n",
        "    books_filename,\n",
        "    encoding = \"ISO-8859-1\",\n",
        "    sep=\";\",\n",
        "    header=0,\n",
        "    names=['isbn', 'title', 'author'],\n",
        "    usecols=['isbn', 'title', 'author'],\n",
        "    dtype={'isbn': 'str', 'title': 'str', 'author': 'str'})\n",
        "\n",
        "df_ratings = pd.read_csv(\n",
        "    ratings_filename,\n",
        "    encoding = \"ISO-8859-1\",\n",
        "    sep=\";\",\n",
        "    header=0,\n",
        "    names=['user', 'isbn', 'rating'],\n",
        "    usecols=['user', 'isbn', 'rating'],\n",
        "    dtype={'user': 'int32', 'isbn': 'str', 'rating': 'float32'})"
      ]
    },
    {
      "cell_type": "code",
      "execution_count": null,
      "metadata": {
        "id": "xAcXjkCFCh0A"
      },
      "outputs": [],
      "source": [
        "# Merge df_ratings and df_books on the 'isbn' column using a left join\n",
        "df = df_ratings.merge(df_books, on=\"isbn\", how = \"left\")\n",
        "\n",
        "# user id's and rating counts\n",
        "users = df[\"user\"].value_counts()\n",
        "# isbn's and rating counts\n",
        "isbn = df[\"isbn\"].value_counts()\n",
        "\n",
        "# Filter users with at least 200 ratings\n",
        "user_filter = users[users>=200].index\n",
        "# Filter books with at least 100 ratings\n",
        "isbn_filter = isbn[isbn>=100].index\n",
        "\n",
        "# only keep rows that meet user_filter, and isbn_filter criteria\n",
        "df_filtered = df.loc[(df[\"user\"].isin(user_filter.values))&(df[\"isbn\"].isin(isbn_filter.values))]\n",
        "\n",
        "# make sure each user only has 1 rating for a given book\n",
        "df_filtered = df_filtered.drop_duplicates(['title','user'])\n",
        "\n",
        "# remove any rows that contain any missing values (NaNs) in their columns\n",
        "df_filtered = df_filtered.dropna(how = 'any')\n",
        "\n",
        "# create a new table from our filtered table with book titles as the index, user id's as the column, and values as rating values\n",
        "# .fillna(0) will replace any missing values with 0\n",
        "df_pivot = df_filtered.pivot(index = 'title', columns = 'user',values='rating' ).fillna(0)\n",
        "\n",
        "# convert numpy array into CSR (compressed sparse row) matrix\n",
        "df_matrix = csr_matrix(df_pivot.values)\n",
        "\n",
        "# create a Nearest Neighbors model\n",
        "# the cosine metric will be used to measure the distance between books\n",
        "nn_model = NearestNeighbors(metric = 'cosine')\n",
        "\n",
        "# train the model\n",
        "nn_model.fit(df_matrix)"
      ]
    },
    {
      "cell_type": "code",
      "execution_count": 50,
      "metadata": {
        "id": "f5ZUd-L1SQz7"
      },
      "outputs": [],
      "source": [
        "# function to return recommended books - this will be tested\n",
        "def get_recommends(book = \"\"):\n",
        "  recommendation = [book,[]]\n",
        "  # Find the nearest neighbors for the submitted book title, returns matrix of distances, and matrix of book indexes\n",
        "  distances, books = nn_model.kneighbors([df_pivot.loc[book]],6,True)\n",
        "  # reverse order of indices, and remove first element which should be the book itself\n",
        "  books = df_pivot.iloc[np.flip(books[0])[:-1]].index.to_list()\n",
        "  # reverse and remove first element from distances, which should correspond the the book removed\n",
        "  distances = list(np.flip(distances[0])[:-1])\n",
        "\n",
        "  # combine book informatin and distances into tuples\n",
        "  for book_information in zip(books, distances):\n",
        "    # convert each tuple back into a list item [\"book info\", distance] and append to second element in return list\n",
        "    recommendation[1].append(list(book_information))\n",
        "  return recommendation"
      ]
    },
    {
      "cell_type": "code",
      "execution_count": 51,
      "metadata": {
        "id": "jd2SLCh8oxMh",
        "colab": {
          "base_uri": "https://localhost:8080/"
        },
        "outputId": "7b2925da-a1b5-4702-992f-b88008b9b8a2"
      },
      "outputs": [
        {
          "output_type": "stream",
          "name": "stdout",
          "text": [
            "[\"Where the Heart Is (Oprah's Book Club (Paperback))\", [[\"I'll Be Seeing You\", 0.8016211], ['The Weight of Water', 0.77085835], ['The Surgeon', 0.7699411], ['I Know This Much Is True', 0.7677075], ['The Lovely Bones: A Novel', 0.7234864]]]\n",
            "You passed the challenge! 🎉🎉🎉🎉🎉\n"
          ]
        }
      ],
      "source": [
        "books = get_recommends(\"Where the Heart Is (Oprah's Book Club (Paperback))\")\n",
        "print(books)\n",
        "\n",
        "def test_book_recommendation():\n",
        "  test_pass = True\n",
        "  recommends = get_recommends(\"Where the Heart Is (Oprah's Book Club (Paperback))\")\n",
        "  if recommends[0] != \"Where the Heart Is (Oprah's Book Club (Paperback))\":\n",
        "    test_pass = False\n",
        "  recommended_books = [\"I'll Be Seeing You\", 'The Weight of Water', 'The Surgeon', 'I Know This Much Is True']\n",
        "  recommended_books_dist = [0.8, 0.77, 0.77, 0.77]\n",
        "  for i in range(2):\n",
        "    if recommends[1][i][0] not in recommended_books:\n",
        "      test_pass = False\n",
        "    if abs(recommends[1][i][1] - recommended_books_dist[i]) >= 0.05:\n",
        "      test_pass = False\n",
        "  if test_pass:\n",
        "    print(\"You passed the challenge! 🎉🎉🎉🎉🎉\")\n",
        "  else:\n",
        "    print(\"You haven't passed yet. Keep trying!\")\n",
        "\n",
        "test_book_recommendation()"
      ]
    }
  ],
  "metadata": {
    "colab": {
      "name": "fcc_book_recommendation_knn.ipynb",
      "provenance": []
    },
    "kernelspec": {
      "display_name": "Python 3",
      "language": "python",
      "name": "python3"
    },
    "language_info": {
      "codemirror_mode": {
        "name": "ipython",
        "version": 3
      },
      "file_extension": ".py",
      "mimetype": "text/x-python",
      "name": "python",
      "nbconvert_exporter": "python",
      "pygments_lexer": "ipython3",
      "version": "3.6.5"
    }
  },
  "nbformat": 4,
  "nbformat_minor": 0
}